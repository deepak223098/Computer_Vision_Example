{
 "cells": [
  {
   "cell_type": "markdown",
   "metadata": {},
   "source": [
    "# opencv track bar"
   ]
  },
  {
   "cell_type": "markdown",
   "metadata": {},
   "source": [
    "## example1 "
   ]
  },
  {
   "cell_type": "code",
   "execution_count": 2,
   "metadata": {},
   "outputs": [],
   "source": [
    "import cv2\n",
    "import numpy as np\n",
    "def nothing(x):\n",
    "    pass\n",
    "img = np.zeros((300,512,3),np.uint8)\n",
    "cv2.namedWindow(\"image\")\n",
    "cv2.createTrackbar(\"B\",\"image\",0,255,nothing)\n",
    "cv2.createTrackbar(\"G\",\"image\",0,255,nothing)\n",
    "cv2.createTrackbar(\"R\",\"image\",0,255,nothing)\n",
    "switch = '0 : OFF\\n 1: ON'\n",
    "cv2.createTrackbar(switch,'image',0,1,nothing)\n",
    "while True:\n",
    "    b_ = cv2.getTrackbarPos(\"B\",\"image\")\n",
    "    g_=  cv2.getTrackbarPos(\"G\",\"image\")\n",
    "    r_ = cv2.getTrackbarPos(\"R\",\"image\")\n",
    "    s = cv2.getTrackbarPos(switch,\"image\")\n",
    "    if s==0:\n",
    "        img[:] = 0\n",
    "    else:\n",
    "        img[:] = [b_,g_,r_]\n",
    "    cv2.imshow(\"image\",img) \n",
    "    k = cv2.waitKey(1) & 0XFF\n",
    "    if k ==27:\n",
    "        break\n",
    "cv2.destroyAllWindows()"
   ]
  },
  {
   "cell_type": "markdown",
   "metadata": {},
   "source": [
    "## example2"
   ]
  },
  {
   "cell_type": "code",
   "execution_count": 3,
   "metadata": {},
   "outputs": [],
   "source": [
    "import cv2\n",
    "import numpy as np\n",
    "def nothing(x):\n",
    "    pass\n",
    "#img = np.zeros((300,512,3),np.uint8)\n",
    "impath = r\"D:\\Study\\example_ml\\computer_vision_example\\cv_exercise\\opencv-master\\samples\\data\\lena.jpg\"\n",
    "cv2.namedWindow(\"image\")\n",
    "cv2.createTrackbar(\"CP\",\"image\",0,255,nothing)\n",
    "switch = 'color/gray'\n",
    "cv2.createTrackbar(switch,'image',0,1,nothing)\n",
    "while True:\n",
    "    img = cv2.imread(impath)\n",
    "    pos = cv2.getTrackbarPos(\"CP\",\"image\")\n",
    "    font = cv2.FONT_HERSHEY_COMPLEX\n",
    "    cv2.putText(img,str(pos),(50,150),font,1,(0,0,255))\n",
    "    s = cv2.getTrackbarPos(switch,\"image\")\n",
    "    if s==0:\n",
    "        pass\n",
    "    else:\n",
    "        img = cv2.cvtColor(img,cv2.COLOR_BGR2GRAY)\n",
    "    cv2.imshow(\"image\",img) \n",
    "    k = cv2.waitKey(1) & 0XFF\n",
    "    if k ==27:\n",
    "        break\n",
    "cv2.destroyAllWindows()"
   ]
  },
  {
   "cell_type": "markdown",
   "metadata": {},
   "source": [
    "# HSV (Hue, Saturation and Value)\n",
    "\n",
    "#### Hue corresponds to the color componets(base pigment), hence just by selecting any color.(0-360\n",
    "#### Saturation is the amoung of color (depth of the pigment)(dominance of the Hue)(0-100%)\n",
    "#### Value is basically the brightness of the color.(0-100%)"
   ]
  },
  {
   "cell_type": "markdown",
   "metadata": {},
   "source": [
    "#### Example 1"
   ]
  },
  {
   "cell_type": "code",
   "execution_count": 9,
   "metadata": {},
   "outputs": [],
   "source": [
    "import cv2\n",
    "import numpy as np\n",
    "\n",
    "cap = cv2.VideoCapture(0)\n",
    "def nothing(x):\n",
    "    pass\n",
    "\n",
    "cv2.namedWindow(\"Trackbar\")\n",
    "cv2.createTrackbar(\"LH\",\"Trackbar\",47,255,nothing)#47\n",
    "cv2.createTrackbar(\"LS\",\"Trackbar\",97,255,nothing)#97\n",
    "cv2.createTrackbar(\"LV\",\"Trackbar\",56,255,nothing)#56\n",
    "cv2.createTrackbar(\"UH\",\"Trackbar\",144,255,nothing)#114\n",
    "cv2.createTrackbar(\"US\",\"Trackbar\",255,255,nothing)#255\n",
    "cv2.createTrackbar(\"UV\",\"Trackbar\",255,255,nothing)#255\n",
    "\n",
    "while True:\n",
    "    #frame = cv2.imread(\"hsv_ball.jpg\")\n",
    "    ret,frame = cap.read()\n",
    "    hsv = cv2.cvtColor(frame,cv2.COLOR_BGR2HSV)\n",
    "    l_h = cv2.getTrackbarPos(\"LH\",\"Trackbar\")\n",
    "    l_s = cv2.getTrackbarPos(\"LS\",\"Trackbar\")\n",
    "    l_v = cv2.getTrackbarPos(\"LV\",\"Trackbar\")\n",
    "    \n",
    "    u_h = cv2.getTrackbarPos(\"UH\",\"Trackbar\")\n",
    "    u_s = cv2.getTrackbarPos(\"US\",\"Trackbar\")\n",
    "    u_v = cv2.getTrackbarPos(\"UV\",\"Trackbar\")\n",
    "    \n",
    "    l_b = np.array([l_h,l_s,l_v])#110,50,50\n",
    "    u_b = np.array([u_h,u_s,u_v])#130,255,255\n",
    "    \n",
    "    mask = cv2.inRange(hsv,l_b,u_b)\n",
    "    result = cv2.bitwise_and(frame,frame,mask=mask)\n",
    "    \n",
    "    cv2.imshow(\"frame\",frame)\n",
    "    cv2.imshow(\"mask\",mask)\n",
    "    cv2.imshow(\"result\",result)\n",
    "    \n",
    "    key = cv2.waitKey(1)\n",
    "    if key ==27:\n",
    "        break\n",
    "cap.release()\n",
    "cv2.destroyAllWindows()"
   ]
  },
  {
   "cell_type": "code",
   "execution_count": null,
   "metadata": {},
   "outputs": [],
   "source": []
  },
  {
   "cell_type": "code",
   "execution_count": null,
   "metadata": {},
   "outputs": [],
   "source": []
  },
  {
   "cell_type": "code",
   "execution_count": null,
   "metadata": {},
   "outputs": [],
   "source": []
  },
  {
   "cell_type": "code",
   "execution_count": null,
   "metadata": {},
   "outputs": [],
   "source": []
  },
  {
   "cell_type": "code",
   "execution_count": null,
   "metadata": {},
   "outputs": [],
   "source": []
  },
  {
   "cell_type": "code",
   "execution_count": null,
   "metadata": {},
   "outputs": [],
   "source": []
  }
 ],
 "metadata": {
  "kernelspec": {
   "display_name": "Python 3",
   "language": "python",
   "name": "python3"
  },
  "language_info": {
   "codemirror_mode": {
    "name": "ipython",
    "version": 3
   },
   "file_extension": ".py",
   "mimetype": "text/x-python",
   "name": "python",
   "nbconvert_exporter": "python",
   "pygments_lexer": "ipython3",
   "version": "3.6.4"
  }
 },
 "nbformat": 4,
 "nbformat_minor": 4
}
